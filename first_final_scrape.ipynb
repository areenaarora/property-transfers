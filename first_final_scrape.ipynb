{
 "cells": [
  {
   "cell_type": "code",
   "execution_count": null,
   "metadata": {},
   "outputs": [],
   "source": [
    "import pdfplumber\n",
    "import re"
   ]
  },
  {
   "cell_type": "markdown",
   "metadata": {},
   "source": [
    "The following code block will scrape all text from the parcel report PDF -- which was generated from scraping KGIS."
   ]
  },
  {
   "cell_type": "code",
   "execution_count": null,
   "metadata": {},
   "outputs": [],
   "source": [
    "pdf = pdfplumber.open(\"Parcel_Report.pdf\")\n",
    "all_pages = pdf.pages\n",
    "cleaned_lines = []\n",
    "cleaned_list_of_dicts = []\n",
    "for each_page in all_pages:\n",
    "    text_of_each_page = each_page.extract_text()\n",
    "    all_lines = text_of_each_page.splitlines()\n",
    "    for each_line in all_lines:\n",
    "        if each_line == \"Address\":\n",
    "            continue\n",
    "        elif each_line == \"Owner Card  Mailing Label  Map and Details Report\":\n",
    "            continue\n",
    "        elif each_line == \"KGIS Parcel Report\":\n",
    "            continue\n",
    "        else:\n",
    "            cleaned_lines.append(each_line)\n",
    "each_dict = {}\n",
    "for index, cleaned_line in enumerate(cleaned_lines):\n",
    "    if re.match(r\"^09[0-9A-Z]{5,}$\", cleaned_line):\n",
    "        # parcel_id\n",
    "        each_dict[\"parcel_id\"] = cleaned_line\n",
    "        each_dict[\"name\"] = cleaned_lines[index + 1]\n",
    "        cleaned_list_of_dicts.append(each_dict)\n",
    "        each_dict = {}\n",
    "    else:\n",
    "        continue"
   ]
  },
  {
   "cell_type": "code",
   "execution_count": null,
   "metadata": {},
   "outputs": [],
   "source": [
    "import pandas as pd\n",
    "import time\n",
    "from selenium import webdriver\n",
    "from selenium.webdriver.common.by import By\n",
    "from selenium.webdriver.support.ui import WebDriverWait\n",
    "from selenium.webdriver.support import expected_conditions as EC\n",
    "from selenium.webdriver.support.ui import Select\n",
    "from webdriver_manager.chrome import ChromeDriverManager"
   ]
  },
  {
   "cell_type": "code",
   "execution_count": null,
   "metadata": {},
   "outputs": [],
   "source": [
    "driver = webdriver.Chrome(ChromeDriverManager().install())"
   ]
  },
  {
   "cell_type": "code",
   "execution_count": null,
   "metadata": {},
   "outputs": [],
   "source": [
    "def get_all_data(parcel_number, agree):\n",
    "    driver.get('https://propertyinfo.knoxcountytn.gov/search/commonsearch.aspx?mode=realprop')\n",
    "    if agree:\n",
    "        driver.find_element(By.ID, \"btAgree\").click()\n",
    "    driver.find_element(By.ID, \"inpParid\").send_keys(parcel_number)\n",
    "    driver.find_element(By.ID, \"btSearch\").click()\n",
    "    error_passing = driver.find_elements(By.ID, \"searchResults\")\n",
    "    print(error_passing)\n",
    "    if len(error_passing) > 0:\n",
    "        error_passing[0].find_element(By.CLASS_NAME, \"SearchResults\").click()\n",
    "    driver.find_element(By.XPATH, '//*[@id=\"sidemenu\"]/ul/li[3]/a').click()\n",
    "    parcel_id_dirty = driver.find_element(By.CLASS_NAME, \"DataletHeaderTop\").text\n",
    "    parcel_id = parcel_id_dirty.split(\": \")[1]\n",
    "\n",
    "    sales_details = driver.find_element(By.ID, \"Sales Summary\")\n",
    "    rows = sales_details.find_elements(By.TAG_NAME, \"tr\")[1:]\n",
    "    sales_data = []\n",
    "    for row in rows:\n",
    "        all_data = row.find_elements(By.TAG_NAME, \"td\")\n",
    "        if len(all_data) < 5:\n",
    "            print(\"insufficient data\")\n",
    "            continue\n",
    "        else:\n",
    "            data = {}\n",
    "            date = all_data[0].text\n",
    "            book = all_data[1].text\n",
    "            page = all_data[2].text\n",
    "            price = all_data[3].text\n",
    "            grantee = all_data[-1].text\n",
    "            data[\"date\"] = date\n",
    "            data[\"book_number\"] = book\n",
    "            data[\"page\"] = page\n",
    "            data[\"sale_price\"] = price\n",
    "            data[\"grantee_name\"] = grantee\n",
    "            data[\"parcel_id_new\"] = parcel_id\n",
    "            sales_data.append(data)\n",
    "    return(sales_data)"
   ]
  },
  {
   "cell_type": "code",
   "execution_count": null,
   "metadata": {},
   "outputs": [],
   "source": [
    "# get_all_data(\"094LF015\", True)\n",
    "all_sales_data = []"
   ]
  },
  {
   "cell_type": "code",
   "execution_count": null,
   "metadata": {},
   "outputs": [],
   "source": [
    "agree = True\n",
    "for each_parcel_dict in cleaned_list_of_dicts[:30]:\n",
    "    sales_data = get_all_data(each_parcel_dict[\"parcel_id\"], agree)\n",
    "    agree = False\n",
    "    all_sales_data.extend(sales_data)"
   ]
  },
  {
   "cell_type": "code",
   "execution_count": null,
   "metadata": {},
   "outputs": [],
   "source": [
    "# print(all_sales_data)"
   ]
  },
  {
   "cell_type": "code",
   "execution_count": null,
   "metadata": {},
   "outputs": [],
   "source": [
    "pd.set_option('display.max_columns', None)\n",
    "full_df = pd.DataFrame(all_sales_data)"
   ]
  },
  {
   "cell_type": "code",
   "execution_count": null,
   "metadata": {},
   "outputs": [],
   "source": [
    "full_df"
   ]
  },
  {
   "cell_type": "code",
   "execution_count": null,
   "metadata": {},
   "outputs": [],
   "source": [
    "# full_df.to_csv(\"first417.csv\")"
   ]
  },
  {
   "cell_type": "code",
   "execution_count": null,
   "metadata": {},
   "outputs": [],
   "source": []
  }
 ],
 "metadata": {
  "kernelspec": {
   "display_name": "Python 3.10.0 64-bit ('3.10.0')",
   "language": "python",
   "name": "python3"
  },
  "language_info": {
   "codemirror_mode": {
    "name": "ipython",
    "version": 3
   },
   "file_extension": ".py",
   "mimetype": "text/x-python",
   "name": "python",
   "nbconvert_exporter": "python",
   "pygments_lexer": "ipython3",
   "version": "3.10.0"
  },
  "orig_nbformat": 4,
  "vscode": {
   "interpreter": {
    "hash": "ad543e75eab41d5b184bbcfbea343e15633f9a0a2b8a0685c69b2ccb05228f0e"
   }
  }
 },
 "nbformat": 4,
 "nbformat_minor": 2
}
