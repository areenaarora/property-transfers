{
 "cells": [
  {
   "cell_type": "code",
   "execution_count": 23,
   "metadata": {},
   "outputs": [],
   "source": [
    "import pdfplumber\n",
    "import re"
   ]
  },
  {
   "cell_type": "markdown",
   "metadata": {},
   "source": [
    "The following code block will scrape all text from the parcel report PDF -- which was generated from scraping KGIS."
   ]
  },
  {
   "cell_type": "code",
   "execution_count": 27,
   "metadata": {},
   "outputs": [],
   "source": [
    "pdf = pdfplumber.open(\"Parcel_Report.pdf\")\n",
    "all_pages = pdf.pages\n",
    "cleaned_lines = []\n",
    "cleaned_list_of_dicts = []\n",
    "for each_page in all_pages:\n",
    "    text_of_each_page = each_page.extract_text()\n",
    "    all_lines = text_of_each_page.splitlines()\n",
    "    for each_line in all_lines:\n",
    "        if each_line == \"Address\":\n",
    "            continue\n",
    "        elif each_line == \"Owner Card  Mailing Label  Map and Details Report\":\n",
    "            continue\n",
    "        elif each_line == \"KGIS Parcel Report\":\n",
    "            continue\n",
    "        else:\n",
    "            cleaned_lines.append(each_line)\n",
    "each_dict = {}\n",
    "for index, cleaned_line in enumerate(cleaned_lines):\n",
    "    if re.match(r\"^09[0-9A-Z]{5,}$\", cleaned_line):\n",
    "        # parcel_id\n",
    "        each_dict[\"parcel_id\"] = cleaned_line\n",
    "        each_dict[\"name\"] = cleaned_lines[index + 1]\n",
    "        cleaned_list_of_dicts.append(each_dict)\n",
    "        each_dict = {}\n",
    "    else:\n",
    "        continue\n",
    "    # if index % 2 == 0:\n",
    "    # else:\n",
    "# print(cleaned_list_of_dicts)\n"
   ]
  },
  {
   "cell_type": "code",
   "execution_count": 5,
   "metadata": {},
   "outputs": [],
   "source": [
    "import pandas as pd"
   ]
  },
  {
   "cell_type": "code",
   "execution_count": 13,
   "metadata": {},
   "outputs": [],
   "source": [
    "pd.set_option(\"display.max_rows\", None)\n"
   ]
  },
  {
   "cell_type": "code",
   "execution_count": null,
   "metadata": {},
   "outputs": [],
   "source": [
    "df = pd.DataFrame(cleaned_list_of_dicts)\n",
    "df\n"
   ]
  }
 ],
 "metadata": {
  "kernelspec": {
   "display_name": "Python 3.10.6 ('venv': venv)",
   "language": "python",
   "name": "python3"
  },
  "language_info": {
   "codemirror_mode": {
    "name": "ipython",
    "version": 3
   },
   "file_extension": ".py",
   "mimetype": "text/x-python",
   "name": "python",
   "nbconvert_exporter": "python",
   "pygments_lexer": "ipython3",
   "version": "3.10.6"
  },
  "orig_nbformat": 4,
  "vscode": {
   "interpreter": {
    "hash": "55b60c5ad58a8918cfcbe1db6ecad5afc3266f12bd89f7ce863e615c94da65d7"
   }
  }
 },
 "nbformat": 4,
 "nbformat_minor": 2
}
