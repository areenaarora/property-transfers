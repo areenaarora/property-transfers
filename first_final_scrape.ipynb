{
 "cells": [
  {
   "cell_type": "code",
   "execution_count": 2,
   "metadata": {},
   "outputs": [],
   "source": [
    "import pdfplumber"
   ]
  },
  {
   "cell_type": "markdown",
   "metadata": {},
   "source": [
    "The following code block will scrape all text from the parcel report PDF -- which was generated from scraping KGIS."
   ]
  },
  {
   "cell_type": "code",
   "execution_count": 10,
   "metadata": {},
   "outputs": [
    {
     "name": "stdout",
     "output_type": "stream",
     "text": [
      "[{'parcel_id': '095BM001', 'name': 'JOHN RACHEL'}, {'parcel_id': '095BM001', 'name': 'JOHN RACHEL'}, {'parcel_id': '095BM001', 'name': 'JOHN RACHEL'}, {'parcel_id': '095BM001', 'name': 'JOHN RACHEL'}, {'parcel_id': '095BM001', 'name': 'JOHN RACHEL'}, {'parcel_id': '095BM001', 'name': 'JOHN RACHEL'}, {'parcel_id': '095BM001', 'name': 'JOHN RACHEL'}, {'parcel_id': '095BM001', 'name': 'JOHN RACHEL'}]\n"
     ]
    }
   ],
   "source": [
    "pdf = pdfplumber.open(\"Parcel_Report.pdf\")\n",
    "all_pages = pdf.pages\n",
    "for each_page in all_pages[:1]:\n",
    "\n",
    "    text_of_each_page = each_page.extract_text()\n",
    "    # skip very first line\n",
    "    # read the next two lines\n",
    "    # skip the next two lines\n",
    "    all_lines = text_of_each_page.splitlines()\n",
    "    cleaned_lines = []\n",
    "    for each_line in all_lines:\n",
    "        if each_line == \"Address\":\n",
    "            continue\n",
    "        elif each_line == \"Owner Card  Mailing Label  Map and Details Report\":\n",
    "            continue\n",
    "        elif each_line == \"KGIS Parcel Report\":\n",
    "            continue\n",
    "        else:\n",
    "            cleaned_lines.append(each_line)\n",
    "    # print(cleaned_lines)\n",
    "    cleaned_list_of_dicts = []\n",
    "    each_dict = {}\n",
    "    for index, cleaned_line in enumerate(cleaned_lines):\n",
    "        if index % 2 == 0:\n",
    "            # id\n",
    "            # {\"parcel_id\": \"095GP014\"}\n",
    "            each_dict[\"parcel_id\"] = cleaned_line\n",
    "            # {\"parcel_id\": \"095GN008\"}\n",
    "        else:\n",
    "            # name\n",
    "            # each_dict: {\"parcel_id\": \"095GN008\", \"name\": \"parkey\"}\n",
    "            each_dict[\"name\"] = cleaned_line\n",
    "            # each_dict: {\"parcel_id\": \"095\", \"name\": \"LEE\"}\n",
    "            cleaned_list_of_dicts.append(each_dict)\n",
    "            # each_dict = {}\n",
    "    print(cleaned_list_of_dicts)\n"
   ]
  },
  {
   "cell_type": "code",
   "execution_count": null,
   "metadata": {},
   "outputs": [],
   "source": []
  }
 ],
 "metadata": {
  "kernelspec": {
   "display_name": "Python 3.10.6 ('venv': venv)",
   "language": "python",
   "name": "python3"
  },
  "language_info": {
   "codemirror_mode": {
    "name": "ipython",
    "version": 3
   },
   "file_extension": ".py",
   "mimetype": "text/x-python",
   "name": "python",
   "nbconvert_exporter": "python",
   "pygments_lexer": "ipython3",
   "version": "3.10.6"
  },
  "orig_nbformat": 4,
  "vscode": {
   "interpreter": {
    "hash": "55b60c5ad58a8918cfcbe1db6ecad5afc3266f12bd89f7ce863e615c94da65d7"
   }
  }
 },
 "nbformat": 4,
 "nbformat_minor": 2
}
