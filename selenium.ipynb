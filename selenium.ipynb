{
 "cells": [
  {
   "cell_type": "code",
   "execution_count": 1,
   "metadata": {},
   "outputs": [
    {
     "name": "stderr",
     "output_type": "stream",
     "text": [
      "/Users/areena.arora/.pyenv/versions/3.10.0/lib/python3.10/site-packages/pandas/compat/__init__.py:124: UserWarning: Could not import the lzma module. Your installed Python is incomplete. Attempting to use lzma compression will result in a RuntimeError.\n",
      "  warnings.warn(msg)\n"
     ]
    }
   ],
   "source": [
    "import pandas as pd\n",
    "import time\n",
    "from selenium import webdriver\n",
    "from selenium.webdriver.common.by import By\n",
    "from selenium.webdriver.support.ui import WebDriverWait\n",
    "from selenium.webdriver.support import expected_conditions as EC\n",
    "from selenium.webdriver.support.ui import Select\n",
    "from webdriver_manager.chrome import ChromeDriverManager"
   ]
  },
  {
   "cell_type": "code",
   "execution_count": 2,
   "metadata": {},
   "outputs": [
    {
     "name": "stderr",
     "output_type": "stream",
     "text": [
      "\n",
      "\n",
      "====== WebDriver manager ======\n",
      "Current google-chrome version is 105.0.5195\n",
      "Get LATEST chromedriver version for 105.0.5195 google-chrome\n",
      "Driver [/Users/areena.arora/.wdm/drivers/chromedriver/mac64/105.0.5195.52/chromedriver] found in cache\n",
      "/var/folders/81/2s24wkdd02j9528vnjsx7m080000gn/T/ipykernel_89329/1503906442.py:1: DeprecationWarning: executable_path has been deprecated, please pass in a Service object\n",
      "  driver = webdriver.Chrome(ChromeDriverManager().install())\n"
     ]
    }
   ],
   "source": [
    "driver = webdriver.Chrome(ChromeDriverManager().install())"
   ]
  },
  {
   "cell_type": "code",
   "execution_count": 3,
   "metadata": {},
   "outputs": [],
   "source": [
    "driver.get('https://propertyinfo.knoxcountytn.gov/search/commonsearch.aspx?mode=realprop')"
   ]
  },
  {
   "cell_type": "code",
   "execution_count": 4,
   "metadata": {},
   "outputs": [],
   "source": [
    "driver.find_element(By.ID, \"btAgree\").click()"
   ]
  },
  {
   "cell_type": "code",
   "execution_count": 5,
   "metadata": {},
   "outputs": [],
   "source": [
    "driver.find_element(By.ID, \"inpParid\").send_keys(\"095HC015\")"
   ]
  },
  {
   "cell_type": "code",
   "execution_count": 6,
   "metadata": {},
   "outputs": [],
   "source": [
    "driver.find_element(By.ID, \"btSearch\").click()"
   ]
  },
  {
   "cell_type": "code",
   "execution_count": 7,
   "metadata": {},
   "outputs": [],
   "source": [
    "driver.find_element(By.XPATH, '//*[@id=\"sidemenu\"]/ul/li[3]/a').click()"
   ]
  },
  {
   "cell_type": "code",
   "execution_count": 8,
   "metadata": {},
   "outputs": [
    {
     "name": "stdout",
     "output_type": "stream",
     "text": [
      "<selenium.webdriver.remote.webelement.WebElement (session=\"a266116d5dc2dc53f5a74620978d7379\", element=\"8cfcbc84-32a9-4a4d-9f0e-08b2f72508fa\")>\n"
     ]
    }
   ],
   "source": [
    "sales_details = driver.find_element(By.ID, \"Sales Summary\")\n",
    "print(sales_details)"
   ]
  },
  {
   "cell_type": "code",
   "execution_count": 9,
   "metadata": {},
   "outputs": [],
   "source": [
    "# all_details = []\n",
    "# for each_row in sales_details:\n",
    "#     details_dict = {}\n",
    "#     each_element = each_row.find_elements(By.TAG_NAME, 'tr')\n",
    "#     details_dict['date'] = each_element[0].text\n",
    "#     details_dict['book_number'] = each_element[1].text\n",
    "#     details_dict['page'] = each_element[2].text\n",
    "#     details_dict['price'] = each_element[3].text\n",
    "#     details_dict['grantee'] = each_element[4].text\n",
    "    \n",
    "#     all_details.append(details_dict)\n",
    "\n",
    "# all_details"
   ]
  },
  {
   "cell_type": "code",
   "execution_count": 24,
   "metadata": {},
   "outputs": [],
   "source": [
    "# test = driver.find_element(By.ID, \"Sales Summary\")\n",
    "# all_details = []\n",
    "# for each_row in test:\n",
    "#     details_dict = {}\n",
    "#     each_element = test.find_elements(By.TAG_NAME, \"tr\")[1:]\n",
    "#     details_dict['book_number'] = each_element[1].text\n",
    "#     # details_dict['page'] = each_element[2].text\n",
    "#     # details_dict['price'] = each_element[3].text\n",
    "#     # details_dict['grantee'] = each_element[4].text\n",
    "#     all_details.append(details_dict)\n",
    "\n",
    "# all_details"
   ]
  },
  {
   "cell_type": "code",
   "execution_count": 25,
   "metadata": {},
   "outputs": [],
   "source": [
    "# test.find_element(By.TAG_NAME, \"tr\")[1:].text"
   ]
  },
  {
   "cell_type": "code",
   "execution_count": 11,
   "metadata": {},
   "outputs": [
    {
     "name": "stdout",
     "output_type": "stream",
     "text": [
      "insufficient data\n"
     ]
    }
   ],
   "source": [
    "parcel_id_dirty = driver.find_element(By.CLASS_NAME, \"DataletHeaderTop\").text\n",
    "parcel_id = parcel_id_dirty.split(\": \")[1]\n",
    "\n",
    "sales_details = driver.find_element(By.ID, \"Sales Summary\")\n",
    "rows = sales_details.find_elements(By.TAG_NAME, \"tr\")[1:]\n",
    "sales_data = []\n",
    "for row in rows:\n",
    "    all_data = row.find_elements(By.TAG_NAME, \"td\")\n",
    "    if len(all_data) < 5:\n",
    "        print(\"insufficient data\")\n",
    "        continue\n",
    "    else:\n",
    "        data = {}\n",
    "        date = all_data[0].text\n",
    "        book = all_data[1].text\n",
    "        page = all_data[2].text\n",
    "        price = all_data[3].text\n",
    "        grantee = all_data[-1].text\n",
    "        data[\"date\"] = date\n",
    "        data[\"book_number\"] = book\n",
    "        data[\"page\"] = page\n",
    "        data[\"sale_price\"] = price\n",
    "        data[\"grantee_name\"] = grantee\n",
    "        data[\"parcel_id\"] = parcel_id\n",
    "        sales_data.append(data)\n",
    "\n"
   ]
  },
  {
   "cell_type": "code",
   "execution_count": null,
   "metadata": {},
   "outputs": [],
   "source": []
  },
  {
   "cell_type": "code",
   "execution_count": 12,
   "metadata": {},
   "outputs": [],
   "source": [
    "import pandas as pd"
   ]
  },
  {
   "cell_type": "code",
   "execution_count": 13,
   "metadata": {},
   "outputs": [
    {
     "data": {
      "text/html": [
       "<div>\n",
       "<style scoped>\n",
       "    .dataframe tbody tr th:only-of-type {\n",
       "        vertical-align: middle;\n",
       "    }\n",
       "\n",
       "    .dataframe tbody tr th {\n",
       "        vertical-align: top;\n",
       "    }\n",
       "\n",
       "    .dataframe thead th {\n",
       "        text-align: right;\n",
       "    }\n",
       "</style>\n",
       "<table border=\"1\" class=\"dataframe\">\n",
       "  <thead>\n",
       "    <tr style=\"text-align: right;\">\n",
       "      <th></th>\n",
       "      <th>date</th>\n",
       "      <th>book_number</th>\n",
       "      <th>page</th>\n",
       "      <th>sale_price</th>\n",
       "      <th>grantee_name</th>\n",
       "      <th>parcel_id</th>\n",
       "    </tr>\n",
       "  </thead>\n",
       "  <tbody>\n",
       "    <tr>\n",
       "      <th>0</th>\n",
       "      <td>11/02/2021</td>\n",
       "      <td>20211104</td>\n",
       "      <td>0037110</td>\n",
       "      <td>$1,350,000</td>\n",
       "      <td>FRIENDLY TOWN DEVELOPMENT LLC</td>\n",
       "      <td>095HC015</td>\n",
       "    </tr>\n",
       "    <tr>\n",
       "      <th>1</th>\n",
       "      <td>06/22/2006</td>\n",
       "      <td>20060626</td>\n",
       "      <td>0109054</td>\n",
       "      <td>$0</td>\n",
       "      <td>KING DANIEL W</td>\n",
       "      <td>095HC015</td>\n",
       "    </tr>\n",
       "    <tr>\n",
       "      <th>2</th>\n",
       "      <td>02/25/1992</td>\n",
       "      <td>00002064</td>\n",
       "      <td>0000560</td>\n",
       "      <td>$30,000</td>\n",
       "      <td>KING DANIEL W</td>\n",
       "      <td>095HC015</td>\n",
       "    </tr>\n",
       "    <tr>\n",
       "      <th>3</th>\n",
       "      <td>02/25/1992</td>\n",
       "      <td>00002064</td>\n",
       "      <td>0000558</td>\n",
       "      <td>$0</td>\n",
       "      <td>KING DANIEL W</td>\n",
       "      <td>095HC015</td>\n",
       "    </tr>\n",
       "    <tr>\n",
       "      <th>4</th>\n",
       "      <td>04/15/1986</td>\n",
       "      <td>00001878</td>\n",
       "      <td>0001063</td>\n",
       "      <td>$160,000</td>\n",
       "      <td>B K L INVESTMENTS</td>\n",
       "      <td>095HC015</td>\n",
       "    </tr>\n",
       "  </tbody>\n",
       "</table>\n",
       "</div>"
      ],
      "text/plain": [
       "         date book_number     page  sale_price                   grantee_name  \\\n",
       "0  11/02/2021    20211104  0037110  $1,350,000  FRIENDLY TOWN DEVELOPMENT LLC   \n",
       "1  06/22/2006    20060626  0109054          $0                  KING DANIEL W   \n",
       "2  02/25/1992    00002064  0000560     $30,000                  KING DANIEL W   \n",
       "3  02/25/1992    00002064  0000558          $0                  KING DANIEL W   \n",
       "4  04/15/1986    00001878  0001063    $160,000              B K L INVESTMENTS   \n",
       "\n",
       "  parcel_id  \n",
       "0  095HC015  \n",
       "1  095HC015  \n",
       "2  095HC015  \n",
       "3  095HC015  \n",
       "4  095HC015  "
      ]
     },
     "execution_count": 13,
     "metadata": {},
     "output_type": "execute_result"
    }
   ],
   "source": [
    "df = pd.DataFrame(sales_data)\n",
    "df"
   ]
  },
  {
   "cell_type": "code",
   "execution_count": null,
   "metadata": {},
   "outputs": [],
   "source": []
  }
 ],
 "metadata": {
  "kernelspec": {
   "display_name": "Python 3.10.0 64-bit ('3.10.0')",
   "language": "python",
   "name": "python3"
  },
  "language_info": {
   "codemirror_mode": {
    "name": "ipython",
    "version": 3
   },
   "file_extension": ".py",
   "mimetype": "text/x-python",
   "name": "python",
   "nbconvert_exporter": "python",
   "pygments_lexer": "ipython3",
   "version": "3.10.0"
  },
  "orig_nbformat": 4,
  "vscode": {
   "interpreter": {
    "hash": "ad543e75eab41d5b184bbcfbea343e15633f9a0a2b8a0685c69b2ccb05228f0e"
   }
  }
 },
 "nbformat": 4,
 "nbformat_minor": 2
}
