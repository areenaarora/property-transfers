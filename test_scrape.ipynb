{
 "cells": [
  {
   "cell_type": "code",
   "execution_count": 73,
   "metadata": {},
   "outputs": [
    {
     "name": "stdout",
     "output_type": "stream",
     "text": [
      "KGIS Parcel Report\n",
      "095GP014\n",
      "PARKEY SYLVIA ROCHELLE\n",
      "Address\n",
      "Owner Card  Mailing Label  Map and Details Report\n",
      "095GN008\n",
      "LEE MARY N\n",
      "Address\n",
      "Owner Card  Mailing Label  Map and Details Report\n",
      "095GP010\n",
      "BROWN MARTHA S COBB & JERVIS S\n",
      "Address\n",
      "Owner Card  Mailing Label  Map and Details Report\n",
      "094EF043\n",
      "HEURISTIC WORKSHOP INC\n",
      "Address\n",
      "Owner Card  Mailing Label  Map and Details Report\n",
      "095BF027\n",
      "LEVITT JOSEPH J JR\n",
      "Address\n",
      "Owner Card  Mailing Label  Map and Details Report\n",
      "095AJ005\n",
      "GRAY-HODGES CORPORATION\n",
      "Address\n",
      "Owner Card  Mailing Label  Map and Details Report\n",
      "094LC003\n",
      "CITY SUMMIT LLC\n",
      "Address\n",
      "Owner Card  Mailing Label  Map and Details Report\n",
      "095BM001\n",
      "JOHN RACHEL\n"
     ]
    }
   ],
   "source": [
    "pdf = pdfplumber.open(\"Parcel_Report.pdf\")\n",
    "all_pages = pdf.pages\n",
    "\n",
    "for each_page in all_pages[:1]:\n",
    "    text_of_each_page = each_page.extract_text()\n",
    "    print(text_of_each_page)\n",
    "    # all_lines = text_of_each_page.splitlines()\n",
    "    # cleaned_lines = []\n",
    "    # for each_line in all_lines:\n",
    "    #     if each_line == \"Address\":\n",
    "    #         continue\n",
    "    #     elif each_line == \"Owner Card  Mailing Label  Map and Details Report\":\n",
    "    #         continue\n",
    "    #     elif each_line == \"KGIS Parcel Report\":\n",
    "    #         continue\n",
    "    #     else:\n",
    "    #         cleaned_lines.extend(each_line)"
   ]
  },
  {
   "cell_type": "code",
   "execution_count": null,
   "metadata": {},
   "outputs": [],
   "source": []
  }
 ],
 "metadata": {
  "kernelspec": {
   "display_name": "Python 3.10.0 64-bit ('3.10.0')",
   "language": "python",
   "name": "python3"
  },
  "language_info": {
   "codemirror_mode": {
    "name": "ipython",
    "version": 3
   },
   "file_extension": ".py",
   "mimetype": "text/x-python",
   "name": "python",
   "nbconvert_exporter": "python",
   "pygments_lexer": "ipython3",
   "version": "3.10.0"
  },
  "orig_nbformat": 4,
  "vscode": {
   "interpreter": {
    "hash": "ad543e75eab41d5b184bbcfbea343e15633f9a0a2b8a0685c69b2ccb05228f0e"
   }
  }
 },
 "nbformat": 4,
 "nbformat_minor": 2
}
